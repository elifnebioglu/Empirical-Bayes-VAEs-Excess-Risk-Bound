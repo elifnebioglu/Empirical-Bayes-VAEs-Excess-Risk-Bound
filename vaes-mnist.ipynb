{
 "cells": [
  {
   "cell_type": "code",
   "execution_count": 1,
   "id": "92ba83b8",
   "metadata": {
    "execution": {
     "iopub.execute_input": "2025-03-20T21:01:48.372858Z",
     "iopub.status.busy": "2025-03-20T21:01:48.372630Z",
     "iopub.status.idle": "2025-03-20T21:01:57.216827Z",
     "shell.execute_reply": "2025-03-20T21:01:57.215764Z"
    },
    "id": "urDRmTyiMI_7",
    "outputId": "c6854854-7dbf-41eb-9a1f-297614ca8c61",
    "papermill": {
     "duration": 8.851519,
     "end_time": "2025-03-20T21:01:57.218338",
     "exception": false,
     "start_time": "2025-03-20T21:01:48.366819",
     "status": "completed"
    },
    "tags": []
   },
   "outputs": [
    {
     "name": "stdout",
     "output_type": "stream",
     "text": [
      "cuda\n"
     ]
    }
   ],
   "source": [
    "import torch\n",
    "import torchvision\n",
    "import torchvision.transforms as transforms\n",
    "import torch.nn as nn\n",
    "import torch.nn.functional as F\n",
    "import numpy as np\n",
    "from torchvision.utils import save_image\n",
    "import cv2\n",
    "import matplotlib.pyplot as plt\n",
    "device = torch.device('cuda' if torch.cuda.is_available() else 'cpu')\n",
    "print(device)"
   ]
  },
  {
   "cell_type": "markdown",
   "id": "bc21c18b",
   "metadata": {
    "id": "nA9xjsR5H0nK",
    "papermill": {
     "duration": 0.00455,
     "end_time": "2025-03-20T21:01:57.228145",
     "exception": false,
     "start_time": "2025-03-20T21:01:57.223595",
     "status": "completed"
    },
    "tags": []
   },
   "source": [
    "####Downloading the dataset"
   ]
  },
  {
   "cell_type": "code",
   "execution_count": 2,
   "id": "4a5c50ad",
   "metadata": {
    "execution": {
     "iopub.execute_input": "2025-03-20T21:01:57.238221Z",
     "iopub.status.busy": "2025-03-20T21:01:57.237874Z",
     "iopub.status.idle": "2025-03-20T21:02:07.772454Z",
     "shell.execute_reply": "2025-03-20T21:02:07.771435Z"
    },
    "id": "AAL5XsEINLlN",
    "papermill": {
     "duration": 10.541295,
     "end_time": "2025-03-20T21:02:07.773965",
     "exception": false,
     "start_time": "2025-03-20T21:01:57.232670",
     "status": "completed"
    },
    "tags": []
   },
   "outputs": [
    {
     "name": "stdout",
     "output_type": "stream",
     "text": [
      "Downloading http://yann.lecun.com/exdb/mnist/train-images-idx3-ubyte.gz\n",
      "Failed to download (trying next):\n",
      "HTTP Error 404: Not Found\n",
      "\n",
      "Downloading https://ossci-datasets.s3.amazonaws.com/mnist/train-images-idx3-ubyte.gz\n",
      "Downloading https://ossci-datasets.s3.amazonaws.com/mnist/train-images-idx3-ubyte.gz to ./data/MNIST/raw/train-images-idx3-ubyte.gz\n"
     ]
    },
    {
     "name": "stderr",
     "output_type": "stream",
     "text": [
      "100%|██████████| 9.91M/9.91M [00:01<00:00, 5.81MB/s]\n"
     ]
    },
    {
     "name": "stdout",
     "output_type": "stream",
     "text": [
      "Extracting ./data/MNIST/raw/train-images-idx3-ubyte.gz to ./data/MNIST/raw\n",
      "\n",
      "Downloading http://yann.lecun.com/exdb/mnist/train-labels-idx1-ubyte.gz\n",
      "Failed to download (trying next):\n",
      "HTTP Error 404: Not Found\n",
      "\n",
      "Downloading https://ossci-datasets.s3.amazonaws.com/mnist/train-labels-idx1-ubyte.gz\n",
      "Downloading https://ossci-datasets.s3.amazonaws.com/mnist/train-labels-idx1-ubyte.gz to ./data/MNIST/raw/train-labels-idx1-ubyte.gz\n"
     ]
    },
    {
     "name": "stderr",
     "output_type": "stream",
     "text": [
      "100%|██████████| 28.9k/28.9k [00:00<00:00, 154kB/s]\n"
     ]
    },
    {
     "name": "stdout",
     "output_type": "stream",
     "text": [
      "Extracting ./data/MNIST/raw/train-labels-idx1-ubyte.gz to ./data/MNIST/raw\n",
      "\n",
      "Downloading http://yann.lecun.com/exdb/mnist/t10k-images-idx3-ubyte.gz\n",
      "Failed to download (trying next):\n",
      "HTTP Error 404: Not Found\n",
      "\n",
      "Downloading https://ossci-datasets.s3.amazonaws.com/mnist/t10k-images-idx3-ubyte.gz\n",
      "Downloading https://ossci-datasets.s3.amazonaws.com/mnist/t10k-images-idx3-ubyte.gz to ./data/MNIST/raw/t10k-images-idx3-ubyte.gz\n"
     ]
    },
    {
     "name": "stderr",
     "output_type": "stream",
     "text": [
      "100%|██████████| 1.65M/1.65M [00:01<00:00, 1.46MB/s]\n"
     ]
    },
    {
     "name": "stdout",
     "output_type": "stream",
     "text": [
      "Extracting ./data/MNIST/raw/t10k-images-idx3-ubyte.gz to ./data/MNIST/raw\n",
      "\n",
      "Downloading http://yann.lecun.com/exdb/mnist/t10k-labels-idx1-ubyte.gz\n",
      "Failed to download (trying next):\n",
      "HTTP Error 404: Not Found\n",
      "\n",
      "Downloading https://ossci-datasets.s3.amazonaws.com/mnist/t10k-labels-idx1-ubyte.gz\n",
      "Downloading https://ossci-datasets.s3.amazonaws.com/mnist/t10k-labels-idx1-ubyte.gz to ./data/MNIST/raw/t10k-labels-idx1-ubyte.gz\n"
     ]
    },
    {
     "name": "stderr",
     "output_type": "stream",
     "text": [
      "100%|██████████| 4.54k/4.54k [00:00<00:00, 7.37MB/s]"
     ]
    },
    {
     "name": "stdout",
     "output_type": "stream",
     "text": [
      "Extracting ./data/MNIST/raw/t10k-labels-idx1-ubyte.gz to ./data/MNIST/raw\n",
      "\n"
     ]
    },
    {
     "name": "stderr",
     "output_type": "stream",
     "text": [
      "\n"
     ]
    }
   ],
   "source": [
    "trainset = torchvision.datasets.MNIST(root='./data', train = True, download = True, transform = transforms.ToTensor())\n",
    "testset = torchvision.datasets.MNIST(root='./data', train = False, download = True, transform = transforms.ToTensor())\n",
    "xtrain = trainset.data.numpy()\n",
    "ytrain = trainset.targets.numpy()\n",
    "x_val_pre = testset.data[:1000].numpy()\n",
    "y_val = testset.targets[:1000].numpy()"
   ]
  },
  {
   "cell_type": "markdown",
   "id": "b7f4ab72",
   "metadata": {
    "id": "x6EhZ9JMH50f",
    "papermill": {
     "duration": 0.006569,
     "end_time": "2025-03-20T21:02:07.787533",
     "exception": false,
     "start_time": "2025-03-20T21:02:07.780964",
     "status": "completed"
    },
    "tags": []
   },
   "source": [
    "### Creating x_train and y_train with 1000 images from each class and binarizing the pixels"
   ]
  },
  {
   "cell_type": "code",
   "execution_count": 3,
   "id": "a16094cd",
   "metadata": {
    "execution": {
     "iopub.execute_input": "2025-03-20T21:02:07.801857Z",
     "iopub.status.busy": "2025-03-20T21:02:07.801583Z",
     "iopub.status.idle": "2025-03-20T21:02:08.003701Z",
     "shell.execute_reply": "2025-03-20T21:02:08.003078Z"
    },
    "id": "6_jrnEd1On-i",
    "papermill": {
     "duration": 0.210985,
     "end_time": "2025-03-20T21:02:08.005012",
     "exception": false,
     "start_time": "2025-03-20T21:02:07.794027",
     "status": "completed"
    },
    "tags": []
   },
   "outputs": [],
   "source": [
    "count = np.zeros(10)\n",
    "idx = []\n",
    "for i in range(0, len(ytrain)):\n",
    "  for j in range(10):\n",
    "    if(ytrain[i] == j):\n",
    "      count[j] += 1\n",
    "      if(count[j]<=1000):\n",
    "        idx = np.append(idx, i)\n",
    "        \n",
    "y_train = ytrain[idx.astype('int')]\n",
    "x_train_pre = xtrain[idx.astype('int')]"
   ]
  },
  {
   "cell_type": "markdown",
   "id": "45729419",
   "metadata": {
    "id": "9kbAExBRINHA",
    "papermill": {
     "duration": 0.006238,
     "end_time": "2025-03-20T21:02:08.017787",
     "exception": false,
     "start_time": "2025-03-20T21:02:08.011549",
     "status": "completed"
    },
    "tags": []
   },
   "source": [
    "### Resizing the images from 28x28 to 14x14"
   ]
  },
  {
   "cell_type": "code",
   "execution_count": 4,
   "id": "8daf8cee",
   "metadata": {
    "execution": {
     "iopub.execute_input": "2025-03-20T21:02:08.031681Z",
     "iopub.status.busy": "2025-03-20T21:02:08.031472Z",
     "iopub.status.idle": "2025-03-20T21:02:08.143709Z",
     "shell.execute_reply": "2025-03-20T21:02:08.143026Z"
    },
    "id": "U8illNwvO0C-",
    "papermill": {
     "duration": 0.120666,
     "end_time": "2025-03-20T21:02:08.145075",
     "exception": false,
     "start_time": "2025-03-20T21:02:08.024409",
     "status": "completed"
    },
    "tags": []
   },
   "outputs": [],
   "source": [
    "r,_,_ = x_train_pre.shape\n",
    "x_train = np.zeros([r,14,14])\n",
    "for i in range(r):\n",
    "  a = cv2.resize(x_train_pre[i].astype('float32'), (14,14)) # Resizing the image from 28*28 to 14*14\n",
    "  x_train[i] = a\n",
    "\n",
    "r,_,_ = x_val_pre.shape\n",
    "x_val = np.zeros([r,14,14])\n",
    "for i in range(r):\n",
    "  a = cv2.resize(x_val_pre[i].astype('float32'), (14,14)) # Resizing the image from 28*28 to 14*14\n",
    "  x_val[i] = a"
   ]
  },
  {
   "cell_type": "markdown",
   "id": "137b758b",
   "metadata": {
    "id": "SDqGT7ZvqZle",
    "papermill": {
     "duration": 0.006916,
     "end_time": "2025-03-20T21:02:08.158872",
     "exception": false,
     "start_time": "2025-03-20T21:02:08.151956",
     "status": "completed"
    },
    "tags": []
   },
   "source": [
    "### Binarizing "
   ]
  },
  {
   "cell_type": "code",
   "execution_count": 5,
   "id": "238a910f",
   "metadata": {
    "execution": {
     "iopub.execute_input": "2025-03-20T21:02:08.172419Z",
     "iopub.status.busy": "2025-03-20T21:02:08.172166Z",
     "iopub.status.idle": "2025-03-20T21:02:08.175106Z",
     "shell.execute_reply": "2025-03-20T21:02:08.174336Z"
    },
    "id": "8reo1YY4mKcM",
    "papermill": {
     "duration": 0.011126,
     "end_time": "2025-03-20T21:02:08.176375",
     "exception": false,
     "start_time": "2025-03-20T21:02:08.165249",
     "status": "completed"
    },
    "tags": []
   },
   "outputs": [],
   "source": [
    "# x_train = np.where(x_train > 128, 1, 0)\n",
    "# x_val = np.where(x_val > 128, 1, 0)\n",
    "# x_train = x_train.astype(np.float32)\n",
    "# x_val = x_val.astype(np.float32)"
   ]
  },
  {
   "cell_type": "markdown",
   "id": "41cc4e53",
   "metadata": {
    "papermill": {
     "duration": 0.006541,
     "end_time": "2025-03-20T21:02:08.189405",
     "exception": false,
     "start_time": "2025-03-20T21:02:08.182864",
     "status": "completed"
    },
    "tags": []
   },
   "source": [
    "### Scaling"
   ]
  },
  {
   "cell_type": "code",
   "execution_count": 6,
   "id": "37e363e6",
   "metadata": {
    "execution": {
     "iopub.execute_input": "2025-03-20T21:02:08.203117Z",
     "iopub.status.busy": "2025-03-20T21:02:08.202916Z",
     "iopub.status.idle": "2025-03-20T21:02:08.218426Z",
     "shell.execute_reply": "2025-03-20T21:02:08.217809Z"
    },
    "papermill": {
     "duration": 0.023857,
     "end_time": "2025-03-20T21:02:08.219780",
     "exception": false,
     "start_time": "2025-03-20T21:02:08.195923",
     "status": "completed"
    },
    "tags": []
   },
   "outputs": [],
   "source": [
    "x_train = (x_train/256).astype(np.float32)\n",
    "x_val = (x_val/256).astype(np.float32)"
   ]
  },
  {
   "cell_type": "markdown",
   "id": "cda468d4",
   "metadata": {
    "id": "mG8G1eZzJnRj",
    "papermill": {
     "duration": 0.006289,
     "end_time": "2025-03-20T21:02:08.232709",
     "exception": false,
     "start_time": "2025-03-20T21:02:08.226420",
     "status": "completed"
    },
    "tags": []
   },
   "source": [
    "### Creating dataloaders"
   ]
  },
  {
   "cell_type": "code",
   "execution_count": 7,
   "id": "70e1fb6b",
   "metadata": {
    "execution": {
     "iopub.execute_input": "2025-03-20T21:02:08.246142Z",
     "iopub.status.busy": "2025-03-20T21:02:08.245937Z",
     "iopub.status.idle": "2025-03-20T21:02:08.256523Z",
     "shell.execute_reply": "2025-03-20T21:02:08.255868Z"
    },
    "id": "U4EJs6JiY9-G",
    "papermill": {
     "duration": 0.01866,
     "end_time": "2025-03-20T21:02:08.257758",
     "exception": false,
     "start_time": "2025-03-20T21:02:08.239098",
     "status": "completed"
    },
    "tags": []
   },
   "outputs": [],
   "source": [
    "batch_size = 32\n",
    "trainloader = torch.utils.data.DataLoader([[x_train[i], y_train[i]] for i in range(len(y_train))], shuffle=True, batch_size=batch_size)\n",
    "testloader = torch.utils.data.DataLoader([[x_val[i], y_val[i]] for i in range(len(y_val))], shuffle=True, batch_size=100)"
   ]
  },
  {
   "cell_type": "markdown",
   "id": "9e5552c7",
   "metadata": {
    "id": "oGwph73PqhoI",
    "papermill": {
     "duration": 0.006328,
     "end_time": "2025-03-20T21:02:08.270696",
     "exception": false,
     "start_time": "2025-03-20T21:02:08.264368",
     "status": "completed"
    },
    "tags": []
   },
   "source": [
    "###(ii)\n",
    "### Variational Auto Encoder model"
   ]
  },
  {
   "cell_type": "code",
   "execution_count": 8,
   "id": "6d1064bc",
   "metadata": {
    "execution": {
     "iopub.execute_input": "2025-03-20T21:02:08.284215Z",
     "iopub.status.busy": "2025-03-20T21:02:08.284016Z",
     "iopub.status.idle": "2025-03-20T21:02:08.296478Z",
     "shell.execute_reply": "2025-03-20T21:02:08.295849Z"
    },
    "id": "Xcq9E_SiTRK6",
    "papermill": {
     "duration": 0.020636,
     "end_time": "2025-03-20T21:02:08.297675",
     "exception": false,
     "start_time": "2025-03-20T21:02:08.277039",
     "status": "completed"
    },
    "tags": []
   },
   "outputs": [],
   "source": [
    "from torch.distributions.normal import Normal\n",
    "\n",
    "class VAE(nn.Module):\n",
    "    def __init__(self, \n",
    "                 learned_covariance=False, \n",
    "                 gamma=0.1,\n",
    "                 learned_noise=False,\n",
    "                 sigma_dec=32):\n",
    "        super(VAE, self).__init__()\n",
    "        self.learned_covariance = learned_covariance\n",
    "        self.gamma = 0.1\n",
    "        self.learned_noise = learned_noise\n",
    "        self.sigma_dec = sigma_dec\n",
    "\n",
    "        self.fc1 = nn.Linear(196, 128) #Encoder\n",
    "        self.fc21 = nn.Linear(128, 8) #mu\n",
    "        self.fc22 = nn.Linear(128, 8) #sigma\n",
    "        self.fccm = nn.Linear(128, 8*8) # Sigma covariance matrix\n",
    "\n",
    "        self.fc3 = nn.Linear(8, 128) #Decoder\n",
    "        self.fc4 = nn.Linear(128, 196)\n",
    "        self.fc_sd = nn.Linear(128, 1) # Learned noising of decoder\n",
    "        \n",
    "    def encoder(self, x):\n",
    "        h = torch.tanh(self.fc1(x))\n",
    "        if not self.learned_covariance:\n",
    "            return self.fc21(h), self.fc22(h) # mu, std\n",
    "        else:\n",
    "            sigma = self.fccm(h).reshape(-1, 8,8)\n",
    "            return self.fc21(h), sigma\n",
    "    \n",
    "    def sampling(self, mu, sigma): # Reparameterization trick\n",
    "        if not self.learned_covariance:\n",
    "            eps1 = torch.randn_like(sigma)\n",
    "            eps2 = torch.randn_like(sigma)\n",
    "            return 0.5*((eps1 * sigma + mu) + (eps2 * sigma + mu)) # Using two samples to compute expectation over z\n",
    "        else:\n",
    "            cov = sigma.transpose(1,2) @ sigma \n",
    "            cov += self.gamma * torch.eye(sigma.shape[-1]).to(sigma.device)\n",
    "            mvn = torch.distributions.MultivariateNormal(mu, cov)\n",
    "            eps = mvn.sample()\n",
    "            return mu + eps\n",
    "\n",
    "    def decoder(self, z):\n",
    "        h = torch.tanh(self.fc3(z))\n",
    "        recon = torch.sigmoid(self.fc4(h))  # Reconstruction output\n",
    "\n",
    "        if self.learned_noise:\n",
    "            sigma_decoder = (1/2) * (self.sigma_dec * F.softplus(self.fc_sd(h)) + self.sigma_dec)  # Learned variance\n",
    "        else:\n",
    "            sigma_decoder = torch.full_like(recon, self.sigma_dec)  # Fixed variance\n",
    "\n",
    "        return recon, sigma_decoder\n",
    "\n",
    "    def forward(self, x):\n",
    "        mu, sigma = self.encoder(x.view(-1, 196))  # Encode\n",
    "        z = self.sampling(mu, sigma)  # Sample latent variable\n",
    "        recon, sigma_decoder = self.decoder(z)  # Decode\n",
    "        return recon, sigma_decoder, mu, sigma\n",
    "\n",
    "\n",
    "    def quantize_gaussian_to_discrete(self, mu, sigma, num_bins=256):\n",
    "        x = torch.linspace(0, num_bins - 1, num_bins).to(mu.device)\n",
    "        mu_expanded = mu.unsqueeze(-1)  # Shape (B, H*W, 1)\n",
    "\n",
    "        # Ensure sigma is correctly shaped\n",
    "        if isinstance(sigma, torch.Tensor):\n",
    "            sigma = sigma.unsqueeze(-1)  # Expand if needed\n",
    "        else:\n",
    "            sigma = torch.full_like(mu_expanded, sigma)  # Convert scalar to tensor\n",
    "\n",
    "\n",
    "        norm = Normal(256 * mu_expanded, sigma)\n",
    "        pdf = torch.exp(norm.log_prob(x))\n",
    "        \n",
    "        pdf_normalized = pdf / (pdf.sum(dim=-1, keepdim=True) + 1e-6)  # Prevent div-by-zero\n",
    "        # pdf_normalized = pdf / (pdf.sum(dim=-1, keepdim=True))  # Prevent div-by-zero\n",
    "        return torch.log(pdf_normalized + 1e-6)  # Avoid log(0)\n",
    "        # return torch.log(pdf_normalized)  # Avoid log(0)\n",
    "\n",
    "    def loss_function(self, recon, data, mu, std, sigma_decoder):\n",
    "        log_pdfs = self.quantize_gaussian_to_discrete(recon, sigma_decoder)  # Use correct variance\n",
    "        data = (256 * data).to(torch.int64).flatten(1,2).unsqueeze(-1)  # Convert to indices\n",
    "        ERR = -torch.gather(log_pdfs, -1, data).squeeze(-1).sum()\n",
    "\n",
    "        # Handle covariance matrix case\n",
    "        if std.dim() == 3:  # Learned covariance matrix case\n",
    "            B, D, _ = std.shape\n",
    "            cov = std.transpose(1,2) @ std \n",
    "            cov += (self.gamma + 1e-6) * torch.eye(D, device=std.device)  # Stabilize\n",
    "            log_det_cov = torch.logdet(cov + 1e-6 * torch.eye(D, device=std.device))  # Avoid log(0)\n",
    "            trace_cov = torch.einsum('bii->b', cov)\n",
    "            KLD = -0.5 * torch.sum(1 + log_det_cov - trace_cov - torch.sum(mu**2, dim=-1))\n",
    "        else:  # Standard diagonal case\n",
    "            KLD = -0.5 * torch.sum(1 + torch.log(std**2 + 1e-6) - mu**2 - std**2)\n",
    "\n",
    "        return ERR + KLD, -ERR, -KLD, log_pdfs\n",
    "\n"
   ]
  },
  {
   "cell_type": "markdown",
   "id": "7ae339db",
   "metadata": {
    "id": "O0pgwaGgrWBw",
    "papermill": {
     "duration": 0.006134,
     "end_time": "2025-03-20T21:02:08.310107",
     "exception": false,
     "start_time": "2025-03-20T21:02:08.303973",
     "status": "completed"
    },
    "tags": []
   },
   "source": [
    "### Defining loss, optimizer and LR scheduler"
   ]
  },
  {
   "cell_type": "markdown",
   "id": "cc8f0362",
   "metadata": {
    "id": "E1hWcpZIrdue",
    "papermill": {
     "duration": 0.006127,
     "end_time": "2025-03-20T21:02:08.322612",
     "exception": false,
     "start_time": "2025-03-20T21:02:08.316485",
     "status": "completed"
    },
    "tags": []
   },
   "source": [
    "### Training and Validating"
   ]
  },
  {
   "cell_type": "code",
   "execution_count": 9,
   "id": "31069361",
   "metadata": {
    "execution": {
     "iopub.execute_input": "2025-03-20T21:02:08.336220Z",
     "iopub.status.busy": "2025-03-20T21:02:08.336024Z",
     "iopub.status.idle": "2025-03-20T21:02:08.343802Z",
     "shell.execute_reply": "2025-03-20T21:02:08.343227Z"
    },
    "papermill": {
     "duration": 0.016034,
     "end_time": "2025-03-20T21:02:08.345009",
     "exception": false,
     "start_time": "2025-03-20T21:02:08.328975",
     "status": "completed"
    },
    "tags": []
   },
   "outputs": [],
   "source": [
    "import torch\n",
    "import torch.nn.functional as F\n",
    "\n",
    "def train_model(model, \n",
    "                trainloader,\n",
    "                testloader,\n",
    "                optimizer, \n",
    "                scheduler, \n",
    "                num_epochs=20, \n",
    "                device=\"cuda\"):\n",
    "    \"\"\"\n",
    "    Train a given model using a variational autoencoder (VAE) training loop.\n",
    "    \n",
    "    Parameters:\n",
    "    - model: The neural network model to train.\n",
    "    - trainloader: DataLoader for training data.\n",
    "    - testloader: DataLoader for test/validation data.\n",
    "    - optimizer: Optimizer (e.g., Adam, SGD).\n",
    "    - scheduler: Learning rate scheduler.\n",
    "    - loss_function: Loss function for training (should handle both std as vector and matrix).\n",
    "    - num_epochs: Number of training epochs.\n",
    "    - device: \"cuda\" or \"cpu\".\n",
    "    \n",
    "    Returns:\n",
    "    - err_l, kld_l, n_wu, testl, update: Lists tracking training progress.\n",
    "    \"\"\"\n",
    "    model.to(device)\n",
    "    err_l, kld_l, n_wu, testl, update = [], [], [], [], []\n",
    "    count = 0\n",
    "\n",
    "    for epoch in range(1, num_epochs + 1):\n",
    "        model.train()\n",
    "        train_loss = 0\n",
    "\n",
    "        for batch_idx, (data, _) in enumerate(trainloader):\n",
    "            data = data.to(device)\n",
    "            bsize = data.shape[0]\n",
    "\n",
    "            # Forward pass\n",
    "            recon_batch, sigma_decoder, mu, std = model(data)\n",
    "\n",
    "            # Compute loss\n",
    "            loss, err, kld, _ = model.loss_function(recon_batch, data, mu, std, sigma_decoder=sigma_decoder)\n",
    "\n",
    "            # Backpropagation\n",
    "            optimizer.zero_grad()\n",
    "            loss.backward()\n",
    "            optimizer.step()\n",
    "\n",
    "            # Track loss\n",
    "            train_loss += err.item() + kld.item()\n",
    "            err_l.append(err.item() / bsize)\n",
    "            kld_l.append(kld.item() / bsize)\n",
    "            count += 1\n",
    "            n_wu.append(count)\n",
    "\n",
    "            # Validation every 100 updates\n",
    "            if count % 100 == 0:\n",
    "                model.eval()\n",
    "                with torch.no_grad():\n",
    "                    a, _ = next(iter(testloader))\n",
    "                    a = a.to(device)\n",
    "                    trecon, sigma_decoder, tmu, tstd = model(a)\n",
    "                    tloss, terr, tkld, _ = model.loss_function(trecon, a, tmu, tstd, sigma_decoder=sigma_decoder)\n",
    "                    testl.append(terr.item() / 100)\n",
    "                    update.append(count)\n",
    "\n",
    "        # Adjust learning rate\n",
    "        scheduler.step(train_loss / len(trainloader.dataset))\n",
    "\n",
    "        # Print training progress\n",
    "        avg_train_loss = train_loss / len(trainloader.dataset)\n",
    "        print(f\"====> Epoch: {epoch} Average loss: {avg_train_loss:.4f}\")\n",
    "\n",
    "        # Evaluate on the test set\n",
    "        model.eval()\n",
    "        test_loss = 0\n",
    "        with torch.no_grad():\n",
    "            for data, _ in testloader:\n",
    "                data = data.to(device)\n",
    "                recon, sigma_decoder, mu, std = model(data)\n",
    "                loss, err, kld, log_pdfs = model.loss_function(recon, data, mu, std, sigma_decoder=sigma_decoder)\n",
    "                # print(\"recon\", recon[0][0])\n",
    "                # print(\"sigma_decoder\", sigma_decoder[0][0])\n",
    "                # print(\"log_pdfs\", log_pdfs[0][0])\n",
    "                test_loss += err + kld\n",
    "        \n",
    "        test_loss /= len(testloader.dataset)\n",
    "        print(f\"====> Test set loss: {test_loss:.4f}\")\n",
    "\n",
    "    return err_l, kld_l, n_wu, testl, update\n"
   ]
  },
  {
   "cell_type": "code",
   "execution_count": 10,
   "id": "7a0fa9fb",
   "metadata": {
    "execution": {
     "iopub.execute_input": "2025-03-20T21:02:08.358465Z",
     "iopub.status.busy": "2025-03-20T21:02:08.358222Z",
     "iopub.status.idle": "2025-03-20T21:03:05.785508Z",
     "shell.execute_reply": "2025-03-20T21:03:05.784521Z"
    },
    "papermill": {
     "duration": 57.435506,
     "end_time": "2025-03-20T21:03:05.786938",
     "exception": false,
     "start_time": "2025-03-20T21:02:08.351432",
     "status": "completed"
    },
    "tags": []
   },
   "outputs": [
    {
     "name": "stdout",
     "output_type": "stream",
     "text": [
      "====> Epoch: 1 Average loss: -1048.2265\n",
      "====> Test set loss: -954.1616\n",
      "====> Epoch: 2 Average loss: -933.2269\n",
      "====> Test set loss: -915.0296\n",
      "====> Epoch: 3 Average loss: -909.0389\n",
      "====> Test set loss: -897.0767\n",
      "====> Epoch: 4 Average loss: -897.5752\n",
      "====> Test set loss: -893.4011\n",
      "====> Epoch: 5 Average loss: -890.6822\n",
      "====> Test set loss: -886.1340\n",
      "====> Epoch: 6 Average loss: -884.1284\n",
      "====> Test set loss: -881.2349\n",
      "====> Epoch: 7 Average loss: -879.4291\n",
      "====> Test set loss: -878.1609\n",
      "====> Epoch: 8 Average loss: -876.1705\n",
      "====> Test set loss: -874.4925\n",
      "====> Epoch: 9 Average loss: -873.3552\n",
      "====> Test set loss: -872.8867\n",
      "====> Epoch: 10 Average loss: -870.5805\n",
      "====> Test set loss: -870.4839\n",
      "====> Epoch: 11 Average loss: -869.4224\n",
      "====> Test set loss: -867.9273\n",
      "====> Epoch: 12 Average loss: -866.7101\n",
      "====> Test set loss: -866.5213\n",
      "====> Epoch: 13 Average loss: -864.5028\n",
      "====> Test set loss: -866.1958\n",
      "====> Epoch: 14 Average loss: -864.3419\n",
      "====> Test set loss: -864.9197\n",
      "====> Epoch: 15 Average loss: -863.5142\n",
      "====> Test set loss: -863.6213\n",
      "====> Epoch: 16 Average loss: -861.8380\n",
      "====> Test set loss: -865.6245\n",
      "====> Epoch: 17 Average loss: -860.7320\n",
      "====> Test set loss: -861.2755\n",
      "====> Epoch: 18 Average loss: -858.8232\n",
      "====> Test set loss: -861.6126\n",
      "====> Epoch: 19 Average loss: -857.7304\n",
      "====> Test set loss: -860.0955\n",
      "====> Epoch: 20 Average loss: -857.0316\n",
      "====> Test set loss: -860.4458\n",
      "====> Epoch: 21 Average loss: -856.0919\n",
      "====> Test set loss: -859.2007\n",
      "====> Epoch: 22 Average loss: -856.3123\n",
      "====> Test set loss: -858.5682\n",
      "====> Epoch: 23 Average loss: -855.1878\n",
      "====> Test set loss: -857.3776\n",
      "====> Epoch: 24 Average loss: -854.7461\n",
      "====> Test set loss: -856.7072\n",
      "====> Epoch: 25 Average loss: -853.7367\n",
      "====> Test set loss: -857.4620\n",
      "====> Epoch: 26 Average loss: -853.2131\n",
      "====> Test set loss: -856.3243\n",
      "====> Epoch: 27 Average loss: -852.6230\n",
      "====> Test set loss: -856.4162\n",
      "====> Epoch: 28 Average loss: -853.2241\n",
      "====> Test set loss: -857.5197\n",
      "====> Epoch: 29 Average loss: -853.0287\n",
      "====> Test set loss: -856.5142\n",
      "====> Epoch: 30 Average loss: -852.0488\n",
      "====> Test set loss: -854.7852\n",
      "====> Epoch: 31 Average loss: -851.6035\n",
      "====> Test set loss: -855.2451\n",
      "====> Epoch: 32 Average loss: -851.6424\n",
      "====> Test set loss: -854.5502\n",
      "====> Epoch: 33 Average loss: -850.5789\n",
      "====> Test set loss: -854.5161\n",
      "====> Epoch: 34 Average loss: -849.8692\n",
      "====> Test set loss: -854.7805\n",
      "====> Epoch: 35 Average loss: -850.2723\n",
      "====> Test set loss: -855.0836\n",
      "====> Epoch: 36 Average loss: -849.7998\n",
      "====> Test set loss: -854.8293\n",
      "====> Epoch: 37 Average loss: -849.8346\n",
      "====> Test set loss: -854.4772\n",
      "====> Epoch: 38 Average loss: -849.6211\n",
      "====> Test set loss: -855.1995\n",
      "====> Epoch: 39 Average loss: -849.2963\n",
      "====> Test set loss: -852.3331\n",
      "====> Epoch: 40 Average loss: -849.0251\n",
      "====> Test set loss: -853.5979\n",
      "====> Epoch: 41 Average loss: -848.4824\n",
      "====> Test set loss: -852.8849\n",
      "====> Epoch: 42 Average loss: -847.7090\n",
      "====> Test set loss: -851.2268\n",
      "====> Epoch: 43 Average loss: -847.5305\n",
      "====> Test set loss: -853.2708\n",
      "====> Epoch: 44 Average loss: -846.9834\n",
      "====> Test set loss: -852.3764\n",
      "====> Epoch: 45 Average loss: -847.6499\n",
      "====> Test set loss: -852.9169\n",
      "====> Epoch: 46 Average loss: -847.8866\n",
      "====> Test set loss: -853.5052\n",
      "====> Epoch: 47 Average loss: -846.6985\n",
      "====> Test set loss: -851.6479\n",
      "====> Epoch: 48 Average loss: -846.3971\n",
      "====> Test set loss: -850.8943\n",
      "====> Epoch: 49 Average loss: -845.7358\n",
      "====> Test set loss: -851.5345\n",
      "====> Epoch: 50 Average loss: -846.0003\n",
      "====> Test set loss: -851.8271\n"
     ]
    }
   ],
   "source": [
    "model = VAE()\n",
    "trainloader = torch.utils.data.DataLoader([[x_train[i], y_train[i]] for i in range(len(y_train))], shuffle=True, batch_size=batch_size)\n",
    "testloader = torch.utils.data.DataLoader([[x_val[i], y_val[i]] for i in range(len(y_val))], shuffle=True, batch_size=100)\n",
    "optimizer = torch.optim.Adam(model.parameters(), lr = 0.002)\n",
    "scheduler = torch.optim.lr_scheduler.ReduceLROnPlateau(optimizer, 'max', factor=0.5, \n",
    "                             patience=5, threshold=0.001, cooldown=0,\n",
    "                             min_lr=0.0001)\n",
    "\n",
    "vae_ret = train_model(\n",
    "    model=model,\n",
    "    trainloader=trainloader,\n",
    "    testloader=testloader,\n",
    "    optimizer=optimizer,\n",
    "    scheduler=scheduler,\n",
    "    num_epochs=50,\n",
    "    device=\"cuda\"\n",
    ")\n",
    "\n",
    "err_l, kld_l, n_wu, testl, update = vae_ret"
   ]
  },
  {
   "cell_type": "code",
   "execution_count": 11,
   "id": "baeac45f",
   "metadata": {
    "execution": {
     "iopub.execute_input": "2025-03-20T21:03:05.806759Z",
     "iopub.status.busy": "2025-03-20T21:03:05.806527Z",
     "iopub.status.idle": "2025-03-20T21:04:29.716816Z",
     "shell.execute_reply": "2025-03-20T21:04:29.715807Z"
    },
    "papermill": {
     "duration": 83.922402,
     "end_time": "2025-03-20T21:04:29.718304",
     "exception": false,
     "start_time": "2025-03-20T21:03:05.795902",
     "status": "completed"
    },
    "tags": []
   },
   "outputs": [
    {
     "name": "stdout",
     "output_type": "stream",
     "text": [
      "====> Epoch: 1 Average loss: -1040.9801\n",
      "====> Test set loss: -959.4194\n",
      "====> Epoch: 2 Average loss: -945.6659\n",
      "====> Test set loss: -925.1722\n",
      "====> Epoch: 3 Average loss: -921.4160\n",
      "====> Test set loss: -912.4522\n",
      "====> Epoch: 4 Average loss: -912.8595\n",
      "====> Test set loss: -905.5899\n",
      "====> Epoch: 5 Average loss: -905.7825\n",
      "====> Test set loss: -901.4409\n",
      "====> Epoch: 6 Average loss: -902.1876\n",
      "====> Test set loss: -898.9995\n",
      "====> Epoch: 7 Average loss: -899.1981\n",
      "====> Test set loss: -895.6097\n",
      "====> Epoch: 8 Average loss: -896.4594\n",
      "====> Test set loss: -894.6047\n",
      "====> Epoch: 9 Average loss: -894.6925\n",
      "====> Test set loss: -892.8345\n",
      "====> Epoch: 10 Average loss: -892.1257\n",
      "====> Test set loss: -891.2218\n",
      "====> Epoch: 11 Average loss: -890.5512\n",
      "====> Test set loss: -888.2692\n",
      "====> Epoch: 12 Average loss: -889.0530\n",
      "====> Test set loss: -887.6162\n",
      "====> Epoch: 13 Average loss: -887.8662\n",
      "====> Test set loss: -886.4415\n",
      "====> Epoch: 14 Average loss: -886.3429\n",
      "====> Test set loss: -885.4753\n",
      "====> Epoch: 15 Average loss: -884.9131\n",
      "====> Test set loss: -884.9303\n",
      "====> Epoch: 16 Average loss: -883.8310\n",
      "====> Test set loss: -883.8067\n",
      "====> Epoch: 17 Average loss: -882.7688\n",
      "====> Test set loss: -882.8819\n",
      "====> Epoch: 18 Average loss: -882.4555\n",
      "====> Test set loss: -882.0702\n",
      "====> Epoch: 19 Average loss: -881.3918\n",
      "====> Test set loss: -882.5789\n",
      "====> Epoch: 20 Average loss: -880.6511\n",
      "====> Test set loss: -880.4642\n",
      "====> Epoch: 21 Average loss: -880.3999\n",
      "====> Test set loss: -881.0874\n",
      "====> Epoch: 22 Average loss: -879.3285\n",
      "====> Test set loss: -880.1781\n",
      "====> Epoch: 23 Average loss: -879.0134\n",
      "====> Test set loss: -878.6904\n",
      "====> Epoch: 24 Average loss: -878.7282\n",
      "====> Test set loss: -879.3843\n",
      "====> Epoch: 25 Average loss: -878.1612\n",
      "====> Test set loss: -878.5417\n",
      "====> Epoch: 26 Average loss: -877.7151\n",
      "====> Test set loss: -878.6918\n",
      "====> Epoch: 27 Average loss: -877.5382\n",
      "====> Test set loss: -878.3661\n",
      "====> Epoch: 28 Average loss: -877.2916\n",
      "====> Test set loss: -878.7764\n",
      "====> Epoch: 29 Average loss: -876.8299\n",
      "====> Test set loss: -877.6743\n",
      "====> Epoch: 30 Average loss: -876.1221\n",
      "====> Test set loss: -877.5063\n",
      "====> Epoch: 31 Average loss: -876.1724\n",
      "====> Test set loss: -878.5207\n",
      "====> Epoch: 32 Average loss: -875.5130\n",
      "====> Test set loss: -876.8153\n",
      "====> Epoch: 33 Average loss: -875.0709\n",
      "====> Test set loss: -876.7032\n",
      "====> Epoch: 34 Average loss: -875.1408\n",
      "====> Test set loss: -876.3698\n",
      "====> Epoch: 35 Average loss: -874.7523\n",
      "====> Test set loss: -875.7534\n",
      "====> Epoch: 36 Average loss: -874.6491\n",
      "====> Test set loss: -876.8982\n",
      "====> Epoch: 37 Average loss: -874.2263\n",
      "====> Test set loss: -875.4790\n",
      "====> Epoch: 38 Average loss: -874.1837\n",
      "====> Test set loss: -875.7990\n",
      "====> Epoch: 39 Average loss: -873.9331\n",
      "====> Test set loss: -875.4922\n",
      "====> Epoch: 40 Average loss: -874.0163\n",
      "====> Test set loss: -876.4055\n",
      "====> Epoch: 41 Average loss: -873.7533\n",
      "====> Test set loss: -875.1206\n",
      "====> Epoch: 42 Average loss: -873.3390\n",
      "====> Test set loss: -874.9682\n",
      "====> Epoch: 43 Average loss: -872.9099\n",
      "====> Test set loss: -876.8266\n",
      "====> Epoch: 44 Average loss: -873.0997\n",
      "====> Test set loss: -874.8265\n",
      "====> Epoch: 45 Average loss: -872.8769\n",
      "====> Test set loss: -874.0074\n",
      "====> Epoch: 46 Average loss: -872.7463\n",
      "====> Test set loss: -874.8622\n",
      "====> Epoch: 47 Average loss: -872.4856\n",
      "====> Test set loss: -875.1057\n",
      "====> Epoch: 48 Average loss: -872.3305\n",
      "====> Test set loss: -874.8962\n",
      "====> Epoch: 49 Average loss: -872.2527\n",
      "====> Test set loss: -874.7870\n",
      "====> Epoch: 50 Average loss: -872.1594\n",
      "====> Test set loss: -875.0797\n"
     ]
    }
   ],
   "source": [
    "cv_model = VAE(learned_covariance=True, gamma=0.1)\n",
    "trainloader = torch.utils.data.DataLoader([[x_train[i], y_train[i]] for i in range(len(y_train))], shuffle=True, batch_size=batch_size)\n",
    "testloader = torch.utils.data.DataLoader([[x_val[i], y_val[i]] for i in range(len(y_val))], shuffle=True, batch_size=100)\n",
    "optimizer = torch.optim.Adam(cv_model.parameters(), lr = 0.002)\n",
    "scheduler = torch.optim.lr_scheduler.ReduceLROnPlateau(optimizer, 'max', factor=0.5, \n",
    "                             patience=5, threshold=0.001, cooldown=0,\n",
    "                             min_lr=0.0001)\n",
    "\n",
    "cv_ret = train_model(\n",
    "    model=cv_model,\n",
    "    trainloader=trainloader,\n",
    "    testloader=testloader,\n",
    "    optimizer=optimizer,\n",
    "    scheduler=scheduler,\n",
    "    num_epochs=50,\n",
    "    device=\"cuda\"\n",
    ")\n",
    "\n",
    "err_l, kld_l, n_wu, testl, update = cv_ret"
   ]
  },
  {
   "cell_type": "code",
   "execution_count": 12,
   "id": "be7ac733",
   "metadata": {
    "execution": {
     "iopub.execute_input": "2025-03-20T21:04:29.741397Z",
     "iopub.status.busy": "2025-03-20T21:04:29.741128Z",
     "iopub.status.idle": "2025-03-20T21:05:34.933675Z",
     "shell.execute_reply": "2025-03-20T21:05:34.932793Z"
    },
    "papermill": {
     "duration": 65.20548,
     "end_time": "2025-03-20T21:05:34.935043",
     "exception": false,
     "start_time": "2025-03-20T21:04:29.729563",
     "status": "completed"
    },
    "tags": []
   },
   "outputs": [
    {
     "name": "stdout",
     "output_type": "stream",
     "text": [
      "====> Epoch: 1 Average loss: -1011.6711\n",
      "====> Test set loss: -949.3371\n",
      "====> Epoch: 2 Average loss: -927.5706\n",
      "====> Test set loss: -907.1244\n",
      "====> Epoch: 3 Average loss: -899.2912\n",
      "====> Test set loss: -884.7161\n",
      "====> Epoch: 4 Average loss: -883.1836\n",
      "====> Test set loss: -878.7724\n",
      "====> Epoch: 5 Average loss: -876.4944\n",
      "====> Test set loss: -869.8286\n",
      "====> Epoch: 6 Average loss: -870.7107\n",
      "====> Test set loss: -865.8774\n",
      "====> Epoch: 7 Average loss: -866.2685\n",
      "====> Test set loss: -862.2009\n",
      "====> Epoch: 8 Average loss: -862.9752\n",
      "====> Test set loss: -859.9146\n",
      "====> Epoch: 9 Average loss: -860.5212\n",
      "====> Test set loss: -859.8297\n",
      "====> Epoch: 10 Average loss: -857.5708\n",
      "====> Test set loss: -857.6559\n",
      "====> Epoch: 11 Average loss: -854.7798\n",
      "====> Test set loss: -856.0604\n",
      "====> Epoch: 12 Average loss: -852.7550\n",
      "====> Test set loss: -853.0410\n",
      "====> Epoch: 13 Average loss: -850.5096\n",
      "====> Test set loss: -852.5433\n",
      "====> Epoch: 14 Average loss: -849.5009\n",
      "====> Test set loss: -850.4224\n",
      "====> Epoch: 15 Average loss: -847.1632\n",
      "====> Test set loss: -848.7634\n",
      "====> Epoch: 16 Average loss: -844.4445\n",
      "====> Test set loss: -845.7056\n",
      "====> Epoch: 17 Average loss: -843.1583\n",
      "====> Test set loss: -844.6144\n",
      "====> Epoch: 18 Average loss: -842.1199\n",
      "====> Test set loss: -848.0536\n",
      "====> Epoch: 19 Average loss: -841.1472\n",
      "====> Test set loss: -842.8340\n",
      "====> Epoch: 20 Average loss: -839.7000\n",
      "====> Test set loss: -844.7074\n",
      "====> Epoch: 21 Average loss: -839.2778\n",
      "====> Test set loss: -841.2607\n",
      "====> Epoch: 22 Average loss: -836.8761\n",
      "====> Test set loss: -843.3715\n",
      "====> Epoch: 23 Average loss: -837.3582\n",
      "====> Test set loss: -841.6218\n",
      "====> Epoch: 24 Average loss: -835.4523\n",
      "====> Test set loss: -840.5270\n",
      "====> Epoch: 25 Average loss: -834.4463\n",
      "====> Test set loss: -838.2333\n",
      "====> Epoch: 26 Average loss: -833.9960\n",
      "====> Test set loss: -838.2223\n",
      "====> Epoch: 27 Average loss: -833.6507\n",
      "====> Test set loss: -838.9944\n",
      "====> Epoch: 28 Average loss: -833.9447\n",
      "====> Test set loss: -838.7074\n",
      "====> Epoch: 29 Average loss: -833.1885\n",
      "====> Test set loss: -837.3544\n",
      "====> Epoch: 30 Average loss: -832.4459\n",
      "====> Test set loss: -836.5624\n",
      "====> Epoch: 31 Average loss: -831.7626\n",
      "====> Test set loss: -835.8968\n",
      "====> Epoch: 32 Average loss: -830.4526\n",
      "====> Test set loss: -837.0542\n",
      "====> Epoch: 33 Average loss: -830.1420\n",
      "====> Test set loss: -835.8561\n",
      "====> Epoch: 34 Average loss: -829.0657\n",
      "====> Test set loss: -834.1517\n",
      "====> Epoch: 35 Average loss: -828.3440\n",
      "====> Test set loss: -835.0706\n",
      "====> Epoch: 36 Average loss: -829.2228\n",
      "====> Test set loss: -834.3843\n",
      "====> Epoch: 37 Average loss: -827.8153\n",
      "====> Test set loss: -832.6577\n",
      "====> Epoch: 38 Average loss: -827.9148\n",
      "====> Test set loss: -833.8718\n",
      "====> Epoch: 39 Average loss: -826.9464\n",
      "====> Test set loss: -833.6332\n",
      "====> Epoch: 40 Average loss: -825.8594\n",
      "====> Test set loss: -831.1431\n",
      "====> Epoch: 41 Average loss: -825.6821\n",
      "====> Test set loss: -832.7714\n",
      "====> Epoch: 42 Average loss: -826.9434\n",
      "====> Test set loss: -833.8399\n",
      "====> Epoch: 43 Average loss: -824.8290\n",
      "====> Test set loss: -831.9919\n",
      "====> Epoch: 44 Average loss: -823.9174\n",
      "====> Test set loss: -831.8429\n",
      "====> Epoch: 45 Average loss: -824.2321\n",
      "====> Test set loss: -831.3452\n",
      "====> Epoch: 46 Average loss: -825.0722\n",
      "====> Test set loss: -831.4999\n",
      "====> Epoch: 47 Average loss: -824.2289\n",
      "====> Test set loss: -832.4193\n",
      "====> Epoch: 48 Average loss: -824.1718\n",
      "====> Test set loss: -832.2990\n",
      "====> Epoch: 49 Average loss: -823.8158\n",
      "====> Test set loss: -829.8229\n",
      "====> Epoch: 50 Average loss: -822.8082\n",
      "====> Test set loss: -830.6803\n"
     ]
    }
   ],
   "source": [
    "noise_model = VAE(learned_noise=True)\n",
    "trainloader = torch.utils.data.DataLoader([[x_train[i], y_train[i]] for i in range(len(y_train))], shuffle=True, batch_size=batch_size)\n",
    "testloader = torch.utils.data.DataLoader([[x_val[i], y_val[i]] for i in range(len(y_val))], shuffle=True, batch_size=100)\n",
    "optimizer = torch.optim.Adam(noise_model.parameters(), lr = 0.002)\n",
    "scheduler = torch.optim.lr_scheduler.ReduceLROnPlateau(optimizer, 'max', factor=0.5, \n",
    "                             patience=5, threshold=0.001, cooldown=0,\n",
    "                             min_lr=0.0001)\n",
    "\n",
    "noise_ret = train_model(\n",
    "    model=noise_model,\n",
    "    trainloader=trainloader,\n",
    "    testloader=testloader,\n",
    "    optimizer=optimizer,\n",
    "    scheduler=scheduler,\n",
    "    num_epochs=50,\n",
    "    device=\"cuda\"\n",
    ")\n",
    "\n",
    "err_l, kld_l, n_wu, testl, update = vae_ret"
   ]
  },
  {
   "cell_type": "code",
   "execution_count": 13,
   "id": "7ccec7de",
   "metadata": {
    "execution": {
     "iopub.execute_input": "2025-03-20T21:05:34.961924Z",
     "iopub.status.busy": "2025-03-20T21:05:34.961680Z",
     "iopub.status.idle": "2025-03-20T21:07:04.460800Z",
     "shell.execute_reply": "2025-03-20T21:07:04.459813Z"
    },
    "papermill": {
     "duration": 89.513787,
     "end_time": "2025-03-20T21:07:04.462210",
     "exception": false,
     "start_time": "2025-03-20T21:05:34.948423",
     "status": "completed"
    },
    "tags": []
   },
   "outputs": [
    {
     "name": "stdout",
     "output_type": "stream",
     "text": [
      "====> Epoch: 1 Average loss: -1005.8805\n",
      "====> Test set loss: -951.4495\n",
      "====> Epoch: 2 Average loss: -937.9833\n",
      "====> Test set loss: -915.9806\n",
      "====> Epoch: 3 Average loss: -912.4161\n",
      "====> Test set loss: -901.8026\n",
      "====> Epoch: 4 Average loss: -902.0550\n",
      "====> Test set loss: -893.6982\n",
      "====> Epoch: 5 Average loss: -895.4693\n",
      "====> Test set loss: -890.2973\n",
      "====> Epoch: 6 Average loss: -891.5061\n",
      "====> Test set loss: -887.6417\n",
      "====> Epoch: 7 Average loss: -890.2519\n",
      "====> Test set loss: -891.4861\n",
      "====> Epoch: 8 Average loss: -886.9295\n",
      "====> Test set loss: -883.8084\n",
      "====> Epoch: 9 Average loss: -884.3140\n",
      "====> Test set loss: -882.3218\n",
      "====> Epoch: 10 Average loss: -884.2080\n",
      "====> Test set loss: -879.8365\n",
      "====> Epoch: 11 Average loss: -881.2645\n",
      "====> Test set loss: -877.8089\n",
      "====> Epoch: 12 Average loss: -879.7245\n",
      "====> Test set loss: -876.6315\n",
      "====> Epoch: 13 Average loss: -877.6046\n",
      "====> Test set loss: -875.1526\n",
      "====> Epoch: 14 Average loss: -876.8279\n",
      "====> Test set loss: -874.1506\n",
      "====> Epoch: 15 Average loss: -874.9341\n",
      "====> Test set loss: -873.5963\n",
      "====> Epoch: 16 Average loss: -873.8627\n",
      "====> Test set loss: -871.9522\n",
      "====> Epoch: 17 Average loss: -873.0887\n",
      "====> Test set loss: -872.1835\n",
      "====> Epoch: 18 Average loss: -872.2216\n",
      "====> Test set loss: -871.0729\n",
      "====> Epoch: 19 Average loss: -871.1333\n",
      "====> Test set loss: -869.9017\n",
      "====> Epoch: 20 Average loss: -870.1342\n",
      "====> Test set loss: -870.5605\n",
      "====> Epoch: 21 Average loss: -869.4714\n",
      "====> Test set loss: -868.8757\n",
      "====> Epoch: 22 Average loss: -868.4724\n",
      "====> Test set loss: -867.9989\n",
      "====> Epoch: 23 Average loss: -867.8012\n",
      "====> Test set loss: -868.5405\n",
      "====> Epoch: 24 Average loss: -866.9545\n",
      "====> Test set loss: -868.1605\n",
      "====> Epoch: 25 Average loss: -866.3593\n",
      "====> Test set loss: -867.2487\n",
      "====> Epoch: 26 Average loss: -865.8186\n",
      "====> Test set loss: -865.2842\n",
      "====> Epoch: 27 Average loss: -865.0333\n",
      "====> Test set loss: -865.1553\n",
      "====> Epoch: 28 Average loss: -865.0123\n",
      "====> Test set loss: -866.8540\n",
      "====> Epoch: 29 Average loss: -864.1329\n",
      "====> Test set loss: -864.7633\n",
      "====> Epoch: 30 Average loss: -863.8998\n",
      "====> Test set loss: -863.8078\n",
      "====> Epoch: 31 Average loss: -863.3689\n",
      "====> Test set loss: -862.7362\n",
      "====> Epoch: 32 Average loss: -863.7001\n",
      "====> Test set loss: -862.9222\n",
      "====> Epoch: 33 Average loss: -862.7083\n",
      "====> Test set loss: -864.2189\n",
      "====> Epoch: 34 Average loss: -862.2909\n",
      "====> Test set loss: -863.8564\n",
      "====> Epoch: 35 Average loss: -861.7115\n",
      "====> Test set loss: -863.4785\n",
      "====> Epoch: 36 Average loss: -861.7403\n",
      "====> Test set loss: -863.6517\n",
      "====> Epoch: 37 Average loss: -861.5197\n",
      "====> Test set loss: -862.4962\n",
      "====> Epoch: 38 Average loss: -861.1843\n",
      "====> Test set loss: -861.0880\n",
      "====> Epoch: 39 Average loss: -861.0145\n",
      "====> Test set loss: -861.4980\n",
      "====> Epoch: 40 Average loss: -860.4621\n",
      "====> Test set loss: -863.8051\n",
      "====> Epoch: 41 Average loss: -860.1914\n",
      "====> Test set loss: -860.6362\n",
      "====> Epoch: 42 Average loss: -860.5136\n",
      "====> Test set loss: -860.8051\n",
      "====> Epoch: 43 Average loss: -859.4097\n",
      "====> Test set loss: -862.2493\n",
      "====> Epoch: 44 Average loss: -859.3912\n",
      "====> Test set loss: -860.4609\n",
      "====> Epoch: 45 Average loss: -859.6095\n",
      "====> Test set loss: -861.4445\n",
      "====> Epoch: 46 Average loss: -858.7682\n",
      "====> Test set loss: -862.1139\n",
      "====> Epoch: 47 Average loss: -858.6883\n",
      "====> Test set loss: -860.2414\n",
      "====> Epoch: 48 Average loss: -858.3762\n",
      "====> Test set loss: -861.3505\n",
      "====> Epoch: 49 Average loss: -858.5422\n",
      "====> Test set loss: -859.3930\n",
      "====> Epoch: 50 Average loss: -858.0984\n",
      "====> Test set loss: -862.7318\n"
     ]
    }
   ],
   "source": [
    "noise_cv_model = VAE(learned_noise=True, learned_covariance=True, gamma=0.1)\n",
    "trainloader = torch.utils.data.DataLoader([[x_train[i], y_train[i]] for i in range(len(y_train))], shuffle=True, batch_size=batch_size)\n",
    "testloader = torch.utils.data.DataLoader([[x_val[i], y_val[i]] for i in range(len(y_val))], shuffle=True, batch_size=100)\n",
    "optimizer = torch.optim.Adam(noise_cv_model.parameters(), lr = 0.002)\n",
    "scheduler = torch.optim.lr_scheduler.ReduceLROnPlateau(optimizer, 'max', factor=0.5, \n",
    "                             patience=5, threshold=0.001, cooldown=0,\n",
    "                             min_lr=0.0001)\n",
    "\n",
    "noise_cv_ret = train_model(\n",
    "    model=noise_cv_model,\n",
    "    trainloader=trainloader,\n",
    "    testloader=testloader,\n",
    "    optimizer=optimizer,\n",
    "    scheduler=scheduler,\n",
    "    num_epochs=50,\n",
    "    device=\"cuda\"\n",
    ")\n",
    "\n",
    "err_l, kld_l, n_wu, testl, update = vae_ret"
   ]
  },
  {
   "cell_type": "markdown",
   "id": "a97a4523",
   "metadata": {
    "id": "776rqq2asZQt",
    "papermill": {
     "duration": 0.014806,
     "end_time": "2025-03-20T21:07:04.492521",
     "exception": false,
     "start_time": "2025-03-20T21:07:04.477715",
     "status": "completed"
    },
    "tags": []
   },
   "source": [
    "### (iii) Plotting the first and second term of ELBO as a function of weight updates"
   ]
  },
  {
   "cell_type": "code",
   "execution_count": 14,
   "id": "b4122709",
   "metadata": {
    "execution": {
     "iopub.execute_input": "2025-03-20T21:07:04.523704Z",
     "iopub.status.busy": "2025-03-20T21:07:04.523426Z",
     "iopub.status.idle": "2025-03-20T21:07:05.388581Z",
     "shell.execute_reply": "2025-03-20T21:07:05.387743Z"
    },
    "papermill": {
     "duration": 0.882663,
     "end_time": "2025-03-20T21:07:05.390564",
     "exception": false,
     "start_time": "2025-03-20T21:07:04.507901",
     "status": "completed"
    },
    "tags": []
   },
   "outputs": [
    {
     "data": {
      "image/png": "[encoded data removed]",
      "text/plain": [
       "<Figure size 1000x400 with 2 Axes>"
      ]
     },
     "metadata": {},
     "output_type": "display_data"
    }
   ],
   "source": [
    "import matplotlib.pyplot as plt\n",
    "import numpy as np\n",
    "\n",
    "def moving_average(data, window_size=100):\n",
    "    return np.convolve(data, np.ones(window_size)/window_size, mode='valid')\n",
    "\n",
    "def plot_recon_and_kl_error(model_1_ret, model_2_ret, model_3_ret, model_4_ret, window_size=10):\n",
    "    err_l_1, kld_l_1, n_wu_1, _, _ = model_1_ret\n",
    "    err_l_2, kld_l_2, n_wu_2, _, _ = model_2_ret\n",
    "    err_l_3, kld_l_3, n_wu_3, _, _ = model_3_ret\n",
    "    err_l_4, kld_l_4, n_wu_4, _, _ = model_4_ret\n",
    "\n",
    "    smoothed_err_l_1 = moving_average(abs(np.array(err_l_1)), window_size)\n",
    "    smoothed_err_l_2 = moving_average(abs(np.array(err_l_2)), window_size)\n",
    "    smoothed_err_l_3 = moving_average(abs(np.array(err_l_3)), window_size)\n",
    "    smoothed_err_l_4 = moving_average(abs(np.array(err_l_4)), window_size)\n",
    "    \n",
    "    smoothed_kld_l_1 = moving_average(np.array(kld_l_1), window_size)\n",
    "    smoothed_kld_l_2 = moving_average(np.array(kld_l_2), window_size)\n",
    "    smoothed_kld_l_3 = moving_average(np.array(kld_l_3), window_size)\n",
    "    smoothed_kld_l_4 = moving_average(np.array(kld_l_4), window_size)\n",
    "\n",
    "    n_wu_1 = n_wu_1[:len(smoothed_err_l_1)]\n",
    "    n_wu_2 = n_wu_2[:len(smoothed_err_l_2)]\n",
    "    n_wu_3 = n_wu_3[:len(smoothed_err_l_3)]\n",
    "    n_wu_4 = n_wu_4[:len(smoothed_err_l_4)]\n",
    "\n",
    "    fig, axes = plt.subplots(1, 2, figsize=(10, 4), dpi=100)\n",
    "    \n",
    "    axes[0].plot(n_wu_1, smoothed_err_l_1, 'b', label='VAE')\n",
    "    axes[0].plot(n_wu_2, smoothed_err_l_2, 'r', label='Covariance')\n",
    "    axes[0].plot(n_wu_3, smoothed_err_l_3, 'g', label='Noise')\n",
    "    axes[0].plot(n_wu_4, smoothed_err_l_4, 'y', label='Covariance + Noise')\n",
    "    axes[0].set_title('Reconstruction Loss')\n",
    "    axes[0].set_xlabel('Number of weight updates')\n",
    "    axes[0].set_ylabel('Reconstruction Loss')\n",
    "    axes[0].set_yscale('log')\n",
    "    axes[0].legend()\n",
    "    \n",
    "    axes[1].plot(n_wu_1, smoothed_kld_l_1, 'b', label='VAE')\n",
    "    axes[1].plot(n_wu_2, smoothed_kld_l_2, 'r', label='Covariance')\n",
    "    axes[1].plot(n_wu_3, smoothed_kld_l_3, 'g', label='Noise')\n",
    "    axes[1].plot(n_wu_4, smoothed_kld_l_4, 'y', label='Covariance + Noise')\n",
    "    axes[1].set_title('KL Divergence')\n",
    "    axes[1].set_xlabel('Number of weight updates')\n",
    "    axes[1].set_ylabel('KL Divergence')\n",
    "    axes[1].legend()\n",
    "    \n",
    "    plt.tight_layout()\n",
    "    plt.show()\n",
    "\n",
    "plot_recon_and_kl_error(vae_ret, cv_ret, noise_ret, noise_cv_ret, window_size=70)\n"
   ]
  },
  {
   "cell_type": "markdown",
   "id": "82c1d2db",
   "metadata": {
    "id": "LV72MV__svpQ",
    "papermill": {
     "duration": 0.016596,
     "end_time": "2025-03-20T21:07:05.425842",
     "exception": false,
     "start_time": "2025-03-20T21:07:05.409246",
     "status": "completed"
    },
    "tags": []
   },
   "source": [
    "### (iv) \n",
    "### Visualizing input and output from the VAE from training set"
   ]
  },
  {
   "cell_type": "code",
   "execution_count": 15,
   "id": "6fbefac2",
   "metadata": {
    "execution": {
     "iopub.execute_input": "2025-03-20T21:07:05.459717Z",
     "iopub.status.busy": "2025-03-20T21:07:05.459483Z",
     "iopub.status.idle": "2025-03-20T21:07:06.794212Z",
     "shell.execute_reply": "2025-03-20T21:07:06.793331Z"
    },
    "papermill": {
     "duration": 1.353415,
     "end_time": "2025-03-20T21:07:06.795678",
     "exception": false,
     "start_time": "2025-03-20T21:07:05.442263",
     "status": "completed"
    },
    "tags": []
   },
   "outputs": [
    {
     "data": {
      "image/png": "[encoded data removed]",
      "text/plain": [
       "<Figure size 1000x500 with 51 Axes>"
      ]
     },
     "metadata": {},
     "output_type": "display_data"
    }
   ],
   "source": [
    "def compare_models(model1, model2, model3, model4, dataloader, device=\"cuda\"):\n",
    "    \"\"\"\n",
    "    Compares two models by reconstructing images and displaying results in an 8x12 grid.\n",
    "    \n",
    "    Parameters:\n",
    "    - model1: First trained model.\n",
    "    - model2: Second trained model.\n",
    "    - dataloader: DataLoader for sampling images.\n",
    "    - device: \"cuda\" or \"cpu\".\n",
    "    \n",
    "    Outputs:\n",
    "    - Displays an 8x12 grid:\n",
    "        - First 8x4: Original images\n",
    "        - Second 8x4: Model 1 reconstructions (reshaped to 14x14)\n",
    "        - Third 8x4: Model 2 reconstructions (reshaped to 14x14)\n",
    "    \"\"\"\n",
    "    model1.eval()\n",
    "    model2.eval()\n",
    "    model3.eval()\n",
    "    model4.eval()\n",
    "\n",
    "    fig, axes = plt.subplots(5, 10, figsize=(10, 5))  # 8 rows, 12 columns\n",
    "\n",
    "    with torch.no_grad():\n",
    "        for i in range(10):\n",
    "            # Get a batch of images\n",
    "            a, _ = next(iter(dataloader))\n",
    "            a = a.to(device)\n",
    "\n",
    "            for j in range(1):  # Get 4 images per row\n",
    "                img = a[j]\n",
    "                recon1, _, _, _ = model1(img.unsqueeze(0))  # Add batch dim\n",
    "                recon2, _, _, _ = model2(img.unsqueeze(0))\n",
    "                recon3, _, _, _ = model3(img.unsqueeze(0))  # Add batch dim\n",
    "                recon4, _, _, _ = model4(img.unsqueeze(0))\n",
    "                \n",
    "                # Convert tensors to NumPy arrays for plotting\n",
    "                original = img.detach().cpu().numpy().squeeze()\n",
    "                recon1 = recon1[0].detach().cpu().numpy().reshape(14, 14)  # Reshape to 14x14\n",
    "                recon2 = recon2[0].detach().cpu().numpy().reshape(14, 14)  # Reshape to 14x14\n",
    "                recon3 = recon3[0].detach().cpu().numpy().reshape(14, 14)  # Reshape to 14x14\n",
    "                recon4 = recon4[0].detach().cpu().numpy().reshape(14, 14)  # Reshape to 14x14\n",
    "\n",
    "                # First section: Original images (8x4)\n",
    "                axes[j, i].imshow(original, cmap=\"gray\")\n",
    "                \n",
    "                # Second section: Model 1 reconstructions (8x4)\n",
    "                axes[j+1, i].imshow(recon1, cmap=\"gray\")\n",
    "\n",
    "                # Third section: Model 2 reconstructions (8x4)\n",
    "                axes[j+2, i].imshow(recon2, cmap=\"gray\")\n",
    "                axes[j+3, i].imshow(recon3, cmap=\"gray\")\n",
    "                axes[j+4, i].imshow(recon4, cmap=\"gray\")\n",
    "\n",
    "                # Remove axes for clean visualization\n",
    "                for row in range(5):\n",
    "                    axes[row, i].axis(\"off\")\n",
    "\n",
    "    fig.add_subplot(111, frameon=False)  # Invisible axis for lines\n",
    "    plt.plot([0, 1], [0.21, 0.21], color='black', lw=3, transform=fig.transFigure)\n",
    "    plt.plot([0, 1], [0.405, 0.405], color='black', lw=3, transform=fig.transFigure)\n",
    "    plt.plot([0, 1], [0.595, 0.595], color='black', lw=3, transform=fig.transFigure)\n",
    "    plt.plot([0, 1], [0.79, 0.79], color='black', lw=3, transform=fig.transFigure)\n",
    "\n",
    "    plt.gca().set_xticks([])  # Remove x ticks\n",
    "    plt.gca().set_yticks([])  # Remove y ticks\n",
    "\n",
    "    # Add headers for each section\n",
    "    fig.text(0.0, 0.9, 'Original', ha='right', va='center', fontsize=12, fontweight='bold')\n",
    "    fig.text(0.0, 0.7, 'Reconstruction with VAE', ha='right', va='center', fontsize=12, fontweight='bold')\n",
    "    fig.text(0.0, 0.5, 'VAE with Covariance', ha='right', va='center', fontsize=12, fontweight='bold')\n",
    "    fig.text(0.0, 0.3, 'VAE with Noise', ha='right', va='center', fontsize=12, fontweight='bold')\n",
    "    fig.text(0.0, 0.1, 'VAE with Covariance \\n + Noise', ha='right', va='center', fontsize=12, fontweight='bold')\n",
    "\n",
    "\n",
    "    plt.tight_layout()\n",
    "    plt.show()\n",
    "\n",
    "compare_models(model, cv_model, noise_model, noise_cv_model, trainloader, device=\"cuda\")"
   ]
  },
  {
   "cell_type": "markdown",
   "id": "6d8a5028",
   "metadata": {
    "id": "J1Fe7vq-tp1P",
    "papermill": {
     "duration": 0.017179,
     "end_time": "2025-03-20T21:07:06.831430",
     "exception": false,
     "start_time": "2025-03-20T21:07:06.814251",
     "status": "completed"
    },
    "tags": []
   },
   "source": [
    "### (v)\n",
    "### Synthesizing MNIST images from a Standard Gaussian Distribution"
   ]
  },
  {
   "cell_type": "code",
   "execution_count": 16,
   "id": "59f6352a",
   "metadata": {
    "execution": {
     "iopub.execute_input": "2025-03-20T21:07:06.867200Z",
     "iopub.status.busy": "2025-03-20T21:07:06.866938Z",
     "iopub.status.idle": "2025-03-20T21:07:07.943617Z",
     "shell.execute_reply": "2025-03-20T21:07:07.942632Z"
    },
    "papermill": {
     "duration": 1.096541,
     "end_time": "2025-03-20T21:07:07.945453",
     "exception": false,
     "start_time": "2025-03-20T21:07:06.848912",
     "status": "completed"
    },
    "tags": []
   },
   "outputs": [
    {
     "data": {
      "image/png": "[encoded data removed]",
      "text/plain": [
       "<Figure size 1000x400 with 41 Axes>"
      ]
     },
     "metadata": {},
     "output_type": "display_data"
    }
   ],
   "source": [
    "def generate_images(model1, model2, model3, model4, dataloader, device=\"cuda\"):\n",
    "    \"\"\"\n",
    "    Compares two models by reconstructing images and displaying results in an 8x12 grid.\n",
    "    \n",
    "    Parameters:\n",
    "    - model1: First trained model.\n",
    "    - model2: Second trained model.\n",
    "    - dataloader: DataLoader for sampling images.\n",
    "    - device: \"cuda\" or \"cpu\".\n",
    "    \n",
    "    Outputs:\n",
    "    - Displays an 8x8 grid:\n",
    "        - 1st 8x4: Model 1 reconstructions (reshaped to 14x14)\n",
    "        - 2nd 8x4: Model 2 reconstructions (reshaped to 14x14)\n",
    "    \"\"\"\n",
    "    model1.eval()\n",
    "    model2.eval()\n",
    "    model3.eval()\n",
    "    model4.eval()\n",
    "\n",
    "    fig, axes = plt.subplots(4, 10, figsize=(10, 4))  # 8 rows, 12 columns\n",
    "\n",
    "    with torch.no_grad():\n",
    "        for i in range(10):\n",
    "            for j in range(1):  # Get 4 images per row\n",
    "                x = np.random.normal(0,1, 8)\n",
    "                x= x.astype(np.float32)\n",
    "                x=torch.from_numpy(x)\n",
    "                x= x.cuda()\n",
    "                recon1, _ = model1.decoder(x) # Add batch dim\n",
    "                recon2, _ = model2.decoder(x)\n",
    "                recon3, _ = model3.decoder(x)\n",
    "                recon4, _ = model4.decoder(x)\n",
    "\n",
    "                # Convert tensors to NumPy arrays for plotting\n",
    "                recon1 = recon1.detach().cpu().numpy().reshape(14, 14)  # Reshape to 14x14\n",
    "                recon2 = recon2.detach().cpu().numpy().reshape(14, 14)  # Reshape to 14x14\n",
    "                recon3 = recon3.detach().cpu().numpy().reshape(14, 14)\n",
    "                recon4 = recon4.detach().cpu().numpy().reshape(14, 14)\n",
    "                \n",
    "                # Second section: Model 1 reconstructions (8x4)\n",
    "                axes[j, i].imshow(recon1, cmap=\"gray\")\n",
    "\n",
    "                # Third section: Model 2 reconstructions (8x4)\n",
    "                axes[j+1, i].imshow(recon2, cmap=\"gray\")\n",
    "                axes[j+2, i].imshow(recon3, cmap=\"gray\")\n",
    "                axes[j+3, i].imshow(recon4, cmap=\"gray\")\n",
    "\n",
    "                # Remove axes for clean visualization\n",
    "                for row in range(4):\n",
    "                    axes[row, i].axis(\"off\")\n",
    "\n",
    "    fig.add_subplot(111, frameon=False)  # Invisible axis for lines\n",
    "    plt.plot([0, 1], [0.25, 0.25], color='black', lw=3, transform=fig.transFigure)\n",
    "    plt.plot([0, 1], [0.5, 0.5], color='black', lw=3, transform=fig.transFigure)\n",
    "    plt.plot([0, 1], [0.75, 0.75], color='black', lw=3, transform=fig.transFigure)\n",
    "\n",
    "    plt.gca().set_xticks([])  # Remove x ticks\n",
    "    plt.gca().set_yticks([])  # Remove y ticks\n",
    "\n",
    "    # Add headers for each section\n",
    "    fig.text(0.0, 0.875, 'Generation from \\n Gaussian with VAE', ha='right', va='center', fontsize=12, fontweight='bold')\n",
    "    fig.text(0.0, 0.625, 'VAE with Covariance', ha='right', va='center', fontsize=12, fontweight='bold')\n",
    "    fig.text(0.0, 0.375, 'VAE with Noise', ha='right', va='center', fontsize=12, fontweight='bold')\n",
    "    fig.text(0.0, 0.125, 'VAE with Covariance \\n + Noise', ha='right', va='center', fontsize=12, fontweight='bold')\n",
    "\n",
    "\n",
    "    plt.tight_layout()\n",
    "    plt.show()\n",
    "\n",
    "generate_images(model, cv_model, noise_model, noise_cv_model, trainloader, device=\"cuda\")"
   ]
  },
  {
   "cell_type": "code",
   "execution_count": null,
   "id": "c48af137",
   "metadata": {
    "papermill": {
     "duration": 0.018933,
     "end_time": "2025-03-20T21:07:07.984414",
     "exception": false,
     "start_time": "2025-03-20T21:07:07.965481",
     "status": "completed"
    },
    "tags": []
   },
   "outputs": [],
   "source": []
  }
 ],
 "metadata": {
  "accelerator": "GPU",
  "colab": {
   "provenance": []
  },
  "kaggle": {
   "accelerator": "nvidiaTeslaT4",
   "dataSources": [],
   "dockerImageVersionId": 30918,
   "isGpuEnabled": true,
   "isInternetEnabled": true,
   "language": "python",
   "sourceType": "notebook"
  },
  "kernelspec": {
   "display_name": "Python 3",
   "language": "python",
   "name": "python3"
  },
  "language_info": {
   "codemirror_mode": {
    "name": "ipython",
    "version": 3
   },
   "file_extension": ".py",
   "mimetype": "text/x-python",
   "name": "python",
   "nbconvert_exporter": "python",
   "pygments_lexer": "ipython3",
   "version": "3.10.12"
  },
  "papermill": {
   "default_parameters": {},
   "duration": 324.967776,
   "end_time": "2025-03-20T21:07:10.510415",
   "environment_variables": {},
   "exception": null,
   "input_path": "__notebook__.ipynb",
   "output_path": "__notebook__.ipynb",
   "parameters": {},
   "start_time": "2025-03-20T21:01:45.542639",
   "version": "2.6.0"
  }
 },
 "nbformat": 4,
 "nbformat_minor": 5
}
